{
 "cells": [
  {
   "cell_type": "code",
   "execution_count": null,
   "metadata": {},
   "outputs": [],
   "source": [
    "import pandas as pd\n",
    "df1 = pd.read_csv(\"archive/aapl_2016_2020.csv\")\n",
    "df2 = pd.read_csv(\"archive/aapl_2021_2023.csv\")"
   ]
  },
  {
   "cell_type": "markdown",
   "metadata": {},
   "source": [
    "# Data Cleaning"
   ]
  },
  {
   "cell_type": "code",
   "execution_count": null,
   "metadata": {},
   "outputs": [],
   "source": [
    "df = pd.concat([df1,df2],ignore_index=True)\n",
    "del df1 \n",
    "del df2\n",
    "columns = df.columns\n",
    "columns = [s.replace('[', '').replace(']', '').replace(' ', '').strip().lower() for s in columns]\n",
    "df.columns = columns\n",
    "df = df[[\"quote_date\",\"underlying_last\",\"expire_date\",\"strike\",\"dte\",\n",
    "    \"c_iv\",\"c_volume\",\"c_last\",\"c_bid\",\"c_ask\",\n",
    "    \"p_iv\",\"p_volume\",\"p_last\",\"p_bid\",\"p_ask\",\n",
    "    \"strike_distance_pct\",\"strike_distance\"]]\n",
    "df.sort_values('quote_date', inplace=True)\n",
    "\n",
    "df.reset_index()\n",
    "for column in df:\n",
    "    if column == \"quote_date\" or column == \"expire_date\":\n",
    "        continue\n",
    "    df[column] = pd.to_numeric(df[column],errors=\"coerce\")\n",
    "\n",
    "df = df[df[\"c_volume\"].notna()]\n",
    "df = df[df[\"p_volume\"].notna()]"
   ]
  },
  {
   "cell_type": "markdown",
   "metadata": {},
   "source": [
    "# More data cleaning\n",
    "Here we transform take the mean of the implied vol from puts and calls.  We also turn it into an odd dictionary (because I have a dictionary addiction) for actual processing."
   ]
  },
  {
   "cell_type": "code",
   "execution_count": null,
   "metadata": {},
   "outputs": [],
   "source": [
    "from tqdm import tqdm\n",
    "keys = []\n",
    "dates = {}\n",
    "strikes = []\n",
    "implied_vol = []\n",
    "for i in tqdm(range(len(df))):\n",
    "    key = df.iloc[i][\"quote_date\"]\n",
    "    exp_date = df.iloc[i][\"expire_date\"]\n",
    "    strike = df.iloc[i][\"strike\"]\n",
    "    implied_vol = (df.iloc[i][\"c_iv\"] + df.iloc[i][\"p_iv\"])/2\n",
    "\n",
    "    if key not in dates.keys():\n",
    "        keys.append(key)\n",
    "        \n",
    "        dates[key] = [(exp_date,strike,implied_vol)]\n",
    "        continue\n",
    "\n",
    "    dates[key].append((exp_date,strike,implied_vol))\n",
    "del df"
   ]
  },
  {
   "cell_type": "markdown",
   "metadata": {},
   "source": [
    "# Interpellation and Graphing\n",
    "Along with MORE DATA CLEANING (calculating time to expiry) we interpellate points onto a grid of predefined points.  We then plot it and save that figure."
   ]
  },
  {
   "cell_type": "code",
   "execution_count": null,
   "metadata": {},
   "outputs": [],
   "source": [
    "from datetime import datetime\n",
    "import numpy as np\n",
    "from scipy.interpolate import griddata\n",
    "import pandas as pd\n",
    "import matplotlib.pyplot as plt\n",
    "from mpl_toolkits.mplot3d import Axes3D\n",
    "num_points = 20\n",
    "\n",
    "\n",
    "\n",
    "\n",
    "for quote_time in tqdm(range(len(keys))):\n",
    "    tte = []\n",
    "    strikes = []\n",
    "    vols = []\n",
    "    triples = []\n",
    "    date_str1 = keys[quote_time].strip()\n",
    "    datetime1 = datetime.strptime(date_str1, \"%Y-%m-%d\")\n",
    "\n",
    "\n",
    "    for k in range(len(dates[keys[quote_time]])):\n",
    "        date_str2 = dates[keys[quote_time]][k][0].strip()\n",
    "        datetime2 = datetime.strptime(date_str2, \"%Y-%m-%d\")\n",
    "        difference =  datetime2- datetime1\n",
    "        tte.append(int(difference.days))\n",
    "        strikes.append(dates[keys[quote_time]][k][1])\n",
    "        vols.append(dates[keys[quote_time]][k][2])\n",
    "        triples.append((dates[keys[quote_time]][k][1],dates[keys[quote_time]][k][2],int(difference.days)))\n",
    "\n",
    "\n",
    "\n",
    "    x_min, z_min = 50, 0\n",
    "    x_max, z_max = 300, 365\n",
    "\n",
    "    vol_linspace = np.linspace(0, 1,num_points) \n",
    "    strikes_linspace = np.linspace(x_min,x_max,num_points) \n",
    "    tte_linspace = np.linspace(z_min, z_max,num_points) \n",
    "    x = np.array(strikes)\n",
    "    y = np.array(vols)\n",
    "    z = np.array(tte)\n",
    "\n",
    "\n",
    "\n",
    "\n",
    "    # Create ranges in each dimension for interpolation\n",
    "    x_range = np.linspace(x_min, x_max, num=num_points)\n",
    "    z_range = np.linspace(z_min, z_max, num=num_points)\n",
    "\n",
    "    # Create a 2D grid of x and z\n",
    "    grid_x, grid_z = np.meshgrid(x_range, z_range)\n",
    "\n",
    "    # Interpolate y (values) over the grid\n",
    "    grid_y = griddata((x, z), y, (grid_x, grid_z), method='nearest')\n",
    "\n",
    "    # Convert the result to a pandas DataFrame for easier analysis\n",
    "    grid_points = pd.DataFrame({\n",
    "        'x': grid_x.ravel(),\n",
    "        'z': grid_z.ravel(),\n",
    "        'y': grid_y.ravel()  # These are the interpolated y values\n",
    "    })\n",
    "\n",
    "    grid_points = grid_points.fillna(grid_points.mean())\n",
    "\n",
    "\n",
    "\n",
    "    # Create a 2D grid of values\n",
    "    strike_prices = grid_points['x'].unique()\n",
    "    time_to_expiry = grid_points['z'].unique()\n",
    "    X, Y = np.meshgrid(strike_prices, time_to_expiry)\n",
    "    X[X > x_max] = x_max\n",
    "    X[X < x_min] = x_min\n",
    "    \n",
    "\n",
    "    Z = grid_points.set_index(['x', 'z'])['y'].unstack()\n",
    "    Z[Z < 0] = 0\n",
    "    Z[Z > 1] = 1\n",
    "    Y[Y < z_min] = z_min\n",
    "    Y[Y > z_max] = z_max\n",
    "\n",
    "    # Create the 3D plot\n",
    "    fig = plt.figure()\n",
    "    ax = fig.add_subplot(111, projection='3d')\n",
    "\n",
    "    # Plot the surface\n",
    "    ax.plot_surface(X, Y, Z, cmap='viridis', alpha=0.7)\n",
    "\n",
    "    # Set labels and title\n",
    "    ax.set_xlim(x_min,x_max)\n",
    "    ax.set_ylim(z_min,z_max)\n",
    "    ax.set_zlim(0,1)\n",
    "    ax.set_xlabel('Strike Price')\n",
    "    ax.set_ylabel('Time to Expiry')\n",
    "    ax.set_zlabel('Implied Volatility')\n",
    "    ax.set_title('Surface Plot of Strike Price, Time to Expiry, and Implied Volatility')\n",
    "    plt.savefig(f\"figures/{quote_time}.png\", dpi=100, bbox_inches='tight')"
   ]
  },
  {
   "cell_type": "markdown",
   "metadata": {},
   "source": [
    "# Convert images into a gif"
   ]
  },
  {
   "cell_type": "code",
   "execution_count": 8,
   "metadata": {},
   "outputs": [
    {
     "name": "stderr",
     "output_type": "stream",
     "text": [
      "100%|██████████| 1823/1823 [00:00<00:00, 1992239.76it/s]\n"
     ]
    },
    {
     "name": "stdout",
     "output_type": "stream",
     "text": [
      "Added all the images\n",
      "Done\n"
     ]
    },
    {
     "name": "stderr",
     "output_type": "stream",
     "text": [
      "  0%|          | 0/1823 [00:00<?, ?it/s]/var/folders/45/b8l6mxpx0qjbw3xwyc1866480000gn/T/ipykernel_85145/1453573889.py:13: DeprecationWarning: Starting with ImageIO v3 the behavior of this function will switch to that of iio.v3.imread. To keep the current behavior (and make this warning disappear) use `import imageio.v2 as imageio` or call `imageio.v2.imread` directly.\n",
      "  image = imageio.imread(filename)\n",
      " 55%|█████▍    | 997/1823 [00:05<00:04, 184.79it/s]"
     ]
    }
   ],
   "source": [
    "import imageio\n",
    "from tqdm import tqdm\n",
    "filenames = []\n",
    "images = []\n",
    "for quote_time in tqdm(range(len(keys))):\n",
    "    filenames.append(f\"figures/{quote_time}.png\")\n",
    "    #images.append(imageio.imread(f\"figures/{quote_time}.png\"))\n",
    "print(\"Added all the images\")\n",
    "#imageio.mimsave('movie2.gif', images)\n",
    "print(\"Done\")\n",
    "with imageio.get_writer('movie.gif', mode='I') as writer:\n",
    "    for filename in tqdm(filenames):\n",
    "        image = imageio.imread(filename)\n",
    "        writer.append_data(image)\n",
    "print(\"Done\")"
   ]
  },
  {
   "cell_type": "code",
   "execution_count": null,
   "metadata": {},
   "outputs": [],
   "source": []
  }
 ],
 "metadata": {
  "kernelspec": {
   "display_name": ".venv",
   "language": "python",
   "name": "python3"
  },
  "language_info": {
   "codemirror_mode": {
    "name": "ipython",
    "version": 3
   },
   "file_extension": ".py",
   "mimetype": "text/x-python",
   "name": "python",
   "nbconvert_exporter": "python",
   "pygments_lexer": "ipython3",
   "version": "3.12.2"
  }
 },
 "nbformat": 4,
 "nbformat_minor": 2
}
